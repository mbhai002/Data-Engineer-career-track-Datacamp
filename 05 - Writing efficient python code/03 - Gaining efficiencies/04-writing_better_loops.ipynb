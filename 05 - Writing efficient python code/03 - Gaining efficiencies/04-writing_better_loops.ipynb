{
 "cells": [
  {
   "cell_type": "markdown",
   "metadata": {},
   "source": [
    "# One-time calculation loop\n"
   ]
  },
  {
   "cell_type": "markdown",
   "metadata": {},
   "source": [
    "One-time calculation loop\n",
    "A list of integers that represents each Pokémon's generation has been loaded into your session called generations. You'd like to gather the counts of each generation and determine what percentage each generation accounts for out of the total count of integers.\n",
    "\n",
    "The below loop was written to accomplish this task:\n",
    "\n",
    "```python\n",
    "for gen,count in gen_counts.items():\n",
    "    total_count = len(generations)\n",
    "    gen_percent = round(count / total_count * 100, 2)\n",
    "    print(\n",
    "      'generation {}: count = {:3} percentage = {}'\n",
    "      .format(gen, count, gen_percent)\n",
    "    )\n",
    "```\n",
    "\n",
    "Let's make this loop more efficient by moving a one-time calculation outside the loop\n",
    "\n",
    "Instructions\n",
    "\n",
    "Import Counter from the collections module.\n",
    "\n",
    "Use Counter() to collect the count of each generation from the generations list. Save this as gen_counts.\n",
    "\n",
    "Write a better for loop that places a one-time calculation outside (above) the loop. Use the exact same syntax as the original for loop (simply copy and paste the one-time calculation above the loop)."
   ]
  },
  {
   "cell_type": "code",
   "execution_count": 1,
   "metadata": {},
   "outputs": [],
   "source": [
    "# code\n",
    "\n",
    "# Import Counter\n",
    "from collections import Counter\n",
    "\n",
    "# Collect the count of each generation\n",
    "gen_counts = Counter(generations)\n",
    "\n",
    "# Improve for loop by moving one calculation above the loop\n",
    "total_count = len(generations)\n",
    "\n",
    "for gen,count in gen_counts.items():\n",
    "    gen_percent = round(count / total_count * 100, 2)\n",
    "    print('generation {}: count = {:3} percentage = {}'\n",
    "          .format(gen, count, gen_percent))"
   ]
  },
  {
   "cell_type": "markdown",
   "metadata": {},
   "source": [
    "# Holistic conversion loop\n"
   ]
  },
  {
   "cell_type": "markdown",
   "metadata": {},
   "source": [
    "A list of all possible Pokémon types has been loaded into your session as pokemon_types. It's been printed in the console for convenience.\n",
    "\n",
    "You'd like to gather all the possible pairs of Pokémon types. You want to store each of these pairs in an individual list with an enumerated index as the first element of each list. This allows you to see the total number of possible pairs and provides an indexed label for each pair.\n",
    "\n",
    "The below loop was written to accomplish this task:\n",
    "\n",
    "```python\n",
    "enumerated_pairs = []\n",
    "\n",
    "for i,pair in enumerate(possible_pairs, 1):\n",
    "    enumerated_pair_tuple = (i,) + pair\n",
    "    enumerated_pair_list = list(enumerated_pair_tuple)\n",
    "    enumerated_pairs.append(enumerated_pair_list)\n",
    "```\n",
    "\n",
    "Let's make this loop more efficient using a holistic conversion.\n",
    "\n",
    "Instructions\n",
    "\n",
    "combinations from the itertools module has been loaded into your session. Use it to create a list called possible_pairs that contains all possible pairs of Pokémon types (each pair has 2 Pokémon types).\n",
    "\n",
    "Create an empty list called enumerated_tuples above the for loop.\n",
    "\n",
    "Within the for loop, append each enumerated_pair_tuple to the empty list you created in the above step.\n",
    "\n",
    "Use a built-in function to convert each tuple in enumerated_tuples to a list.\n"
   ]
  },
  {
   "cell_type": "code",
   "execution_count": 2,
   "metadata": {},
   "outputs": [],
   "source": [
    "# code\n",
    "\n",
    "# Collect all possible pairs using combinations()\n",
    "possible_pairs = [*combinations(pokemon_types, 2)]\n",
    "\n",
    "# Create an empty list called enumerated_tuples\n",
    "enumerated_tuples = []\n",
    "\n",
    "# Append each enumerated_pair_tuple to the empty list above\n",
    "for i,pair in enumerate(possible_pairs, 1):\n",
    "    enumerated_pair_tuple = (i,) + pair\n",
    "    enumerated_tuples.append(enumerated_pair_tuple)\n",
    "\n",
    "# Convert all tuples in enumerated_tuples to a list\n",
    "enumerated_pairs = [*map(list, enumerated_tuples)]\n",
    "print(enumerated_pairs)"
   ]
  },
  {
   "cell_type": "markdown",
   "metadata": {},
   "source": [
    "# Bringing it all together: Pokémon z-scores"
   ]
  },
  {
   "cell_type": "markdown",
   "metadata": {},
   "source": [
    "A list of 720 Pokémon has been loaded into your session as names. Each Pokémon's corresponding Health Points is stored in a NumPy array called hps. You want to analyze the Health Points using the z-score to see how many standard deviations each Pokémon's HP is from the mean of all HPs.\n",
    "\n",
    "The below code was written to calculate the HP z-score for each Pokémon and gather the Pokémon with the highest HPs based on their z-scores:\n",
    "\n",
    "```python\n",
    "poke_zscores = []\n",
    "\n",
    "for name,hp in zip(names, hps):\n",
    "    hp_avg = hps.mean()\n",
    "    hp_std = hps.std()\n",
    "    z_score = (hp - hp_avg)/hp_std\n",
    "    poke_zscores.append((name, hp, z_score))\n",
    "highest_hp_pokemon = []\n",
    "\n",
    "for name,hp,zscore in poke_zscores:\n",
    "    if zscore > 2:\n",
    "        highest_hp_pokemon.append((name, hp, zscore))\n",
    "```\n",
    "\n",
    "Instructions 1/3\n",
    "\n",
    "Use NumPy to eliminate the for loop used to create the z-scores.\n",
    "\n",
    "Then, combine the names, hps, and z_scores objects together into a list called poke_zscores2.\n"
   ]
  },
  {
   "cell_type": "code",
   "execution_count": null,
   "metadata": {},
   "outputs": [],
   "source": [
    "# code\n",
    "# Calculate the total HP avg and total HP standard deviation\n",
    "hp_avg = hps.mean()\n",
    "hp_std = hps.std()\n",
    "\n",
    "# Use NumPy to eliminate the previous for loop\n",
    "z_scores = (hps - hp_avg)/hp_std\n",
    "\n",
    "# Combine names, hps, and z_scores\n",
    "poke_zscores2 = [*zip(names, hps, z_scores)]\n",
    "print(*poke_zscores2[:3], sep='\\n')"
   ]
  },
  {
   "cell_type": "markdown",
   "metadata": {},
   "source": [
    "Use list comprehension to replace the for loop used to collect Pokémon with the highest HPs based on their z-score."
   ]
  },
  {
   "cell_type": "code",
   "execution_count": null,
   "metadata": {},
   "outputs": [],
   "source": [
    "# Calculate the total HP avg and total HP standard deviation\n",
    "hp_avg = hps.mean()\n",
    "hp_std = hps.std()\n",
    "\n",
    "# Use NumPy to eliminate the previous for loop\n",
    "z_scores = (hps - hp_avg)/hp_std\n",
    "\n",
    "# Combine names, hps, and z_scores\n",
    "poke_zscores2 = [*zip(names, hps, z_scores)]\n",
    "print(*poke_zscores2[:3], sep='\\n')\n",
    "\n",
    "# Use list comprehension with the same logic as the highest_hp_pokemon code block\n",
    "highest_hp_pokemon2 = [(name, hp, zscore) for name,hp,zscore in poke_zscores2 if zscore > 2]\n",
    "print(*highest_hp_pokemon2, sep='\\n')"
   ]
  },
  {
   "cell_type": "markdown",
   "metadata": {},
   "source": [
    "Question\n",
    "\n",
    "Use %%timeit (cell magic mode) within your IPython console to compare the runtimes between the original code blocks and the new code you developed using NumPy and list comprehension.\n",
    "\n",
    "Don't include the print() statements when timing. You should include ten lines of code when timing the original code blocks and five lines of code when timing the new code you developed. You may need to press SHIFT+ENTER after entering %%timeit to get to a new line within your IPython console.\n",
    "\n",
    "Which approach was the faster?\n",
    "\n",
    "answers\n",
    "\n",
    "\n",
    "The total time for executing the updated solution using NumPy and list comprehension was faster.\n",
    "\n"
   ]
  }
 ],
 "metadata": {
  "kernelspec": {
   "display_name": "Python 3",
   "language": "python",
   "name": "python3"
  },
  "language_info": {
   "codemirror_mode": {
    "name": "ipython",
    "version": 3
   },
   "file_extension": ".py",
   "mimetype": "text/x-python",
   "name": "python",
   "nbconvert_exporter": "python",
   "pygments_lexer": "ipython3",
   "version": "3.11.8"
  }
 },
 "nbformat": 4,
 "nbformat_minor": 2
}
