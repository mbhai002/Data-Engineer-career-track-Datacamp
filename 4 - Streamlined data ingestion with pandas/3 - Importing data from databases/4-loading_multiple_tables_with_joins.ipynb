{
 "cells": [
  {
   "cell_type": "markdown",
   "metadata": {},
   "source": [
    "# Joining tables\n"
   ]
  },
  {
   "cell_type": "markdown",
   "metadata": {},
   "source": [
    "Tables in relational databases usually have key columns of unique record identifiers. This lets us build pipelines that combine tables using SQL's JOIN operation, instead of having to combine data after importing it.\n",
    "\n",
    "The records in hpd311calls often concern issues, like leaks or heating problems, that are exacerbated by weather conditions. In this exercise, you'll join weather data to call records along their common date columns to get everything in one dataframe. You can assume these columns have the same data type.\n",
    "\n",
    "pandas is loaded as pd, and the database engine, engine, has been created.\n",
    "\n",
    "Note: The SQL checker is picky about join table order -- it expects specific tables on the left and the right.\n",
    "\n",
    "Instructions\n",
    "\n",
    "Complete the query to join weather to hpd311calls by their date and created_date columns, respectively.\n",
    "Query the database and assign the resulting dataframe to calls_with_weather.\n",
    "Print the first few rows of calls_with_weather to confirm all columns were joined."
   ]
  },
  {
   "cell_type": "code",
   "execution_count": 1,
   "metadata": {},
   "outputs": [],
   "source": [
    "# Query to join weather to call records by date columns\n",
    "query = \"\"\"\n",
    "SELECT * \n",
    "  FROM hpd311calls\n",
    "  JOIN weather \n",
    "  ON hpd311calls.created_date = weather.date;\n",
    "\"\"\"\n",
    "\n",
    "# Create dataframe of joined tables\n",
    "calls_with_weather = pd.read_sql(query, engine)\n",
    "\n",
    "# View the dataframe to make sure all columns were joined\n",
    "print(calls_with_weather.head())"
   ]
  },
  {
   "cell_type": "markdown",
   "metadata": {},
   "source": [
    "# Joining and filtering\n"
   ]
  },
  {
   "cell_type": "markdown",
   "metadata": {},
   "source": [
    "Just as you might not always want all the data in a single table, you might not want all columns and rows that result from a JOIN. In this exercise, you'll use SQL to refine a data import.\n",
    "\n",
    "Weather exacerbates some housing problems more than others. Your task is to focus on water leak reports in hpd311calls and assemble a dataset that includes the day's precipitation levels from weather to see if there is any relationship between the two. The provided SQL gets all columns in hpd311calls, but you'll need to modify it to get the necessary weather column and filter rows with a WHERE clause.\n",
    "\n",
    "pandas is loaded as pd, and the database engine, engine, has been created.\n",
    "\n",
    "Instructions 1/2\n",
    "\n",
    "Complete query to get the prcp column in weather and join weather to hpd311calls on their date and created_date columns, respectively.\n",
    "Use read_sql() to load the results of the query into the leak_calls dataframe.\n"
   ]
  },
  {
   "cell_type": "code",
   "execution_count": 2,
   "metadata": {},
   "outputs": [],
   "source": [
    "# Query to get hpd311calls and precipitation values\n",
    "query = \"\"\"\n",
    "SELECT hpd311calls.*, weather.prcp\n",
    "  FROM hpd311calls\n",
    "  JOIN weather\n",
    "  ON hpd311calls.created_date = weather.date;\"\"\"\n",
    "\n",
    "# Load query results into the leak_calls dataframe\n",
    "leak_calls = pd.read_sql(query, engine)\n",
    "\n",
    "# View the dataframe\n",
    "print(leak_calls.head())"
   ]
  },
  {
   "cell_type": "code",
   "execution_count": null,
   "metadata": {},
   "outputs": [],
   "source": [
    "# Query to get water leak calls and daily precipitation\n",
    "query = \"\"\"\n",
    "SELECT hpd311calls.*, weather.prcp\n",
    "  FROM hpd311calls\n",
    "  JOIN weather\n",
    "    ON hpd311calls.created_date = weather.date\n",
    "  WHERE hpd311calls.complaint_type = 'WATER LEAK';\"\"\"\n",
    "\n",
    "# Load query results into the leak_calls dataframe\n",
    "leak_calls = pd.read_sql(query, engine)\n",
    "\n",
    "# View the dataframe\n",
    "print(leak_calls.head())"
   ]
  },
  {
   "cell_type": "markdown",
   "metadata": {},
   "source": [
    "# Joining, filtering, and aggregating\n"
   ]
  },
  {
   "cell_type": "markdown",
   "metadata": {},
   "source": [
    "In this exercise, you'll use what you've learned to assemble a dataset to investigate how the number of heating complaints to New York City's 311 line varies with temperature.\n",
    "\n",
    "In addition to the hpd311calls table, data.db has a weather table with daily high and low temperature readings for NYC. We want to get each day's count of heat/hot water calls with temperatures joined in. This can be done in one query, which we'll build in parts.\n",
    "\n",
    "In part one, we'll get just the data we want from hpd311calls. Then, in part two, we'll modify the query to join in weather data.\n",
    "\n",
    "pandas has been imported as pd, and the database engine has been created as engine.\n",
    "\n",
    "Instructions 1/2\n",
    "\n",
    "Complete the query to get created_date and counts of records whose complaint_type is HEAT/HOT WATER from hpd311calls by date.\n",
    "Create a dataframe,df, containing the results of the query.\n",
    "\n",
    "Modify the query to join tmax and tmin from the weather table. (There is only one record per date in weather, so we do not need SQL's MAX and MIN functions here.) Join the tables on created_date in hpd311calls and date in weather."
   ]
  },
  {
   "cell_type": "code",
   "execution_count": null,
   "metadata": {},
   "outputs": [],
   "source": [
    "# Query to get heat/hot water call counts by created_date\n",
    "query = \"\"\"\n",
    "SELECT hpd311calls.created_date, \n",
    "       COUNT(*)\n",
    "  FROM hpd311calls \n",
    "  WHERE hpd311calls.complaint_type = 'HEAT/HOT WATER'\n",
    "  GROUP BY hpd311calls.created_date;\n",
    "\"\"\"\n",
    "\n",
    "# Query database and save results as df\n",
    "df = pd.read_sql(query, engine)\n",
    "\n",
    "# View first 5 records\n",
    "print(df.head())"
   ]
  },
  {
   "cell_type": "code",
   "execution_count": null,
   "metadata": {},
   "outputs": [],
   "source": [
    "# Modify query to join tmax and tmin from weather by date\n",
    "query = \"\"\"\n",
    "SELECT hpd311calls.created_date, \n",
    "\t   COUNT(*), \n",
    "       weather.tmax,\n",
    "       weather.tmin\n",
    "  FROM hpd311calls \n",
    "       join weather\n",
    "       ON hpd311calls.created_date = weather.date\n",
    " WHERE hpd311calls.complaint_type = 'HEAT/HOT WATER' \n",
    " GROUP BY hpd311calls.created_date;\n",
    " \"\"\"\n",
    "\n",
    "# Query database and save results as df\n",
    "df = pd.read_sql(query, engine)\n",
    "\n",
    "# View first 5 records\n",
    "print(df.head())"
   ]
  }
 ],
 "metadata": {
  "kernelspec": {
   "display_name": "Python 3",
   "language": "python",
   "name": "python3"
  },
  "language_info": {
   "codemirror_mode": {
    "name": "ipython",
    "version": 3
   },
   "file_extension": ".py",
   "mimetype": "text/x-python",
   "name": "python",
   "nbconvert_exporter": "python",
   "pygments_lexer": "ipython3",
   "version": "3.11.8"
  }
 },
 "nbformat": 4,
 "nbformat_minor": 2
}
