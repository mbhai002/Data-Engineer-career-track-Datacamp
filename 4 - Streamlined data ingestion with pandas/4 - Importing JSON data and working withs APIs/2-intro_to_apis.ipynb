{
 "cells": [
  {
   "cell_type": "markdown",
   "metadata": {},
   "source": [
    "# Get data from an API\n"
   ]
  },
  {
   "cell_type": "markdown",
   "metadata": {},
   "source": [
    "In this exercise, you'll use requests.get() to query the Yelp Business Search API for cafes in New York City. requests.get() needs a URL to get data from. The Yelp API also needs search parameters and authorization headers passed to the params and headers keyword arguments, respectively.\n",
    "\n",
    "You'll need to extract the data from the response with its json() method, and pass it to pandas's DataFrame() function to make a dataframe. Note that the necessary data is under the dictionary key \"businesses\".\n",
    "\n",
    "pandas (as pd) and requests have been loaded. Authorization data is in the dictionary headers, and the needed API parameters are stored as params.\n",
    "\n",
    "Instructions\n",
    "\n",
    "Get data about New York City cafes from the Yelp API (api_url) with requests.get(). The necessary params and headers information has been provided.\n",
    "Extract the JSON data from the response with its json() method, and assign it to data.\n",
    "Load the cafe listings to the dataframe cafes with pandas's DataFrame() function. The listings are under the \"businesses\" key in data.\n",
    "Print the dataframe's dtypes to see what information you're getting."
   ]
  },
  {
   "cell_type": "code",
   "execution_count": 1,
   "metadata": {},
   "outputs": [],
   "source": [
    "api_url = \"https://api.yelp.com/v3/businesses/search\"\n",
    "\n",
    "# Get data about NYC cafes from the Yelp API\n",
    "response = requests.get(api_url, \n",
    "                headers=headers, \n",
    "                params=params)\n",
    "\n",
    "# Extract JSON data from the response\n",
    "data = response.json()\n",
    "\n",
    "# Load data to a dataframe\n",
    "cafes = pd.DataFrame(data[\"businesses\"])\n",
    "\n",
    "# View the data's dtypes\n",
    "print(cafes.dtypes)"
   ]
  },
  {
   "cell_type": "markdown",
   "metadata": {},
   "source": [
    "# Set API parameters\n"
   ]
  },
  {
   "cell_type": "markdown",
   "metadata": {},
   "source": [
    "Formatting parameters to get the data you need is an integral part of working with APIs. These parameters can be passed to the get() function's params keyword argument as a dictionary.\n",
    "\n",
    "The Yelp API requires the location parameter be set. It also lets users supply a term to search for. You'll use these parameters to get data about cafes in NYC, then process the result to create a dataframe.\n",
    "\n",
    "pandas (as pd) and requests have been loaded. The API endpoint is stored in the variable api_url. Authorization data is stored in the dictionary headers.\n",
    "\n",
    "Instructions\n",
    "\n",
    "Create a dictionary, parameters, with the term and location parameters set to search for \"cafe\"s in \"NYC\".\n",
    "Query the Yelp API (api_url) with requests's get() function and the headers and params keyword arguments set. Save the result as response.\n",
    "Extract the JSON data from response with the appropriate method. Save the result as data.\n",
    "Load the \"businesses\" values in data to the dataframe cafes and print the head."
   ]
  },
  {
   "cell_type": "code",
   "execution_count": 2,
   "metadata": {},
   "outputs": [],
   "source": [
    "# Create dictionary to query API for cafes in NYC\n",
    "parameters = {\"term\": \"cafe\",\n",
    "            \"location\": \"NYC\"}\n",
    "\n",
    "# Query the Yelp API with headers and params set\n",
    "response = requests.get(api_url,\n",
    "                params = parameters,\n",
    "                headers = headers)\n",
    "\n",
    "# Extract JSON data from response\n",
    "data = response.json()\n",
    "\n",
    "# Load \"businesses\" values to a dataframe and print head\n",
    "cafes = pd.DataFrame(data[\"businesses\"])\n",
    "print(cafes.head())"
   ]
  },
  {
   "cell_type": "markdown",
   "metadata": {},
   "source": [
    "# Set request headers\n"
   ]
  },
  {
   "cell_type": "markdown",
   "metadata": {},
   "source": [
    "Many APIs require users provide an API key, obtained by registering for the service. Keys typically are passed in the request header, rather than as parameters.\n",
    "\n",
    "The Yelp API documentation says \"To authenticate API calls with the API Key, set the Authorization HTTP header value as Bearer API_KEY.\"\n",
    "\n",
    "You'll set up a dictionary to pass this information to get(), call the API for the highest-rated cafes in NYC, and parse the response.\n",
    "\n",
    "pandas (as pd) and requests have been loaded. The API endpoint is stored as api_url, and the key is api_key. Parameters are in the dictionary params.\n",
    "\n",
    "Instructions\n",
    "\n",
    "Create a dictionary, headers, that passes the formatted key string to the \"Authorization\" header value.\n",
    "Query the Yelp API (api_url) with get() and the necessary headers and parameters. Save the result as response.\n",
    "Extract the JSON data from response. Save the result as data.\n",
    "Load the \"businesses\" values in data to the dataframe cafes and print the names column."
   ]
  },
  {
   "cell_type": "code",
   "execution_count": null,
   "metadata": {},
   "outputs": [],
   "source": [
    "# Create dictionary that passes Authorization and key string\n",
    "headers = {\"Authorization\": \"Bearer {}\".format(api_key)}\n",
    "\n",
    "# Query the Yelp API with headers and params set\n",
    "response = requests.get(api_url,\n",
    "                        headers=headers,\n",
    "                        params=params)\n",
    "\n",
    "\n",
    "\n",
    "# Extract JSON data from response\n",
    "data = response.json()\n",
    "\n",
    "# Load \"businesses\" values to a dataframe and print names\n",
    "cafes = pd.DataFrame(data[\"businesses\"])\n",
    "print(cafes.name)"
   ]
  }
 ],
 "metadata": {
  "kernelspec": {
   "display_name": "Python 3",
   "language": "python",
   "name": "python3"
  },
  "language_info": {
   "codemirror_mode": {
    "name": "ipython",
    "version": 3
   },
   "file_extension": ".py",
   "mimetype": "text/x-python",
   "name": "python",
   "nbconvert_exporter": "python",
   "pygments_lexer": "ipython3",
   "version": "3.11.8"
  }
 },
 "nbformat": 4,
 "nbformat_minor": 2
}
