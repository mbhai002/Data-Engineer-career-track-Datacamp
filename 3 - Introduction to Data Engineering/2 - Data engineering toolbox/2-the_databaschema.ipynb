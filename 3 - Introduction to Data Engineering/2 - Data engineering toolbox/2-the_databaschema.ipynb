{
 "cells": [
  {
   "cell_type": "markdown",
   "metadata": {},
   "source": [
    "# The database schema"
   ]
  },
  {
   "cell_type": "markdown",
   "metadata": {},
   "source": [
    "By now, you know that SQL databases always have a database schema. In the video on databases, you saw the following diagram:\n",
    "\n",
    "A PostgreSQL database is set up in your local environment, which contains this database schema. It's been filled with some example data. You can use pandas to query the database using the read_sql() function. You'll have to pass it a database engine, which has been defined for you and is called db_engine.\n",
    "\n",
    "The pandas package imported as pd will store the query result into a DataFrame object, so you can use any DataFrame functionality on it after fetching the results from the database.\n",
    "\n",
    "Complete the SELECT statement so it selects the first_name and the last_name in the \"Customer\" table. Make sure to order by the last name first and the first name second.\n",
    "Use the .head() method to show the first 3 rows of data.\n",
    "Use .info() to show some general information about data."
   ]
  },
  {
   "cell_type": "code",
   "execution_count": null,
   "metadata": {},
   "outputs": [],
   "source": [
    "# Complete the SELECT statement\n",
    "data = pd.read_sql(\"\"\"\n",
    "SELECT first_name, last_name FROM \"Customer\"\n",
    "ORDER BY last_name,first_name\n",
    "\"\"\", db_engine)\n",
    "\n",
    "# Show the first 3 rows of the DataFrame\n",
    "print(data.head(3))\n",
    "\n",
    "# Show the info of the DataFrame\n",
    "print(data.info())"
   ]
  },
  {
   "cell_type": "markdown",
   "metadata": {},
   "source": [
    "# Joining on relations"
   ]
  },
  {
   "cell_type": "markdown",
   "metadata": {},
   "source": [
    "You've used the following diagram in the previous exercise:\n",
    "\n",
    "You've learned that you can use the read_sql() function from pandas to query the database. The real power of SQL is the ability to join information from multiple tables quickly. You do this by using the JOIN statement.\n",
    "\n",
    "When joining two or more tables, pandas puts all the columns of the query result into a DataFrame.\n",
    "\n",
    "Instructions\n",
    "Complete the SELECT statement, so it joins the \"Customer\" with the \"Order\" table.\n",
    "Print the id column of data. What do you see?"
   ]
  },
  {
   "cell_type": "code",
   "execution_count": null,
   "metadata": {},
   "outputs": [],
   "source": [
    "# Complete the SELECT statement\n",
    "data = pd.read_sql(\"\"\"\n",
    "SELECT * FROM \"Customer\"\n",
    "INNER JOIN \"Order\"\n",
    "ON \"Order\".\"customer_id\"=\"Customer\".\"id\"\n",
    "\"\"\", db_engine)\n",
    "\n",
    "# Show the id column of data\n",
    "print(data.id)"
   ]
  },
  {
   "cell_type": "markdown",
   "metadata": {},
   "source": []
  }
 ],
 "metadata": {
  "language_info": {
   "name": "python"
  }
 },
 "nbformat": 4,
 "nbformat_minor": 2
}
