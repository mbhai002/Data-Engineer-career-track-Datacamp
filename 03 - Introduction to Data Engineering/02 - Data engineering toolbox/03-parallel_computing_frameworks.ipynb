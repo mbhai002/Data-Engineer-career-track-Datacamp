{
 "cells": [
  {
   "cell_type": "markdown",
   "metadata": {},
   "source": [
    "# A PySpark groupby"
   ]
  },
  {
   "cell_type": "markdown",
   "metadata": {},
   "source": [
    "EXERCICE\n",
    "\n",
    "You've seen how to use the dask framework and its DataFrame abstraction to do some calculations. However, as you've seen in the video, in the big data world Spark is probably a more popular choice for data processing.\n",
    "\n",
    "In this exercise, you'll use the PySpark package to handle a Spark DataFrame. The data is the same as in previous exercises: participants of Olympic events between 1896 and 2016.\n",
    "\n",
    "The Spark Dataframe, athlete_events_spark is available in your workspace.\n",
    "\n",
    "The methods you're going to use in this exercise are:\n",
    "\n",
    ".printSchema(): helps print the schema of a Spark DataFrame.\n",
    "\n",
    ".groupBy(): grouping statement for an aggregation.\n",
    "\n",
    ".mean(): take the mean over each group.\n",
    "\n",
    ".show(): show the results.\n",
    "\n",
    "instructions\n",
    "\n",
    "Find out the type of athlete_events_spark.\n",
    "\n",
    "Find out the schema of athlete_events_spark.\n",
    "\n",
    "Print out the mean age of the Olympians, grouped by year. Notice that spark has not actually calculated anything yet. You can call this lazy evaluation.\n",
    "\n",
    "Take the previous result, and call .show() on the result to calculate the mean age."
   ]
  },
  {
   "cell_type": "code",
   "execution_count": 1,
   "metadata": {},
   "outputs": [],
   "source": [
    "# code\n",
    "\n",
    "# Print the type of athlete_events_spark\n",
    "print(type(athlete_events_spark))\n",
    "\n",
    "# Print the schema of athlete_events_spark\n",
    "print(athlete_events_spark.printSchema())\n",
    "\n",
    "# Group by the Year, and find the mean Age\n",
    "print(athlete_events_spark.groupBy('Year').mean('Age'))\n",
    "\n",
    "# Group by the Year, and find the mean Age\n",
    "print(athlete_events_spark.groupBy('Year').mean('Age').show())"
   ]
  }
 ],
 "metadata": {
  "kernelspec": {
   "display_name": "Python 3",
   "language": "python",
   "name": "python3"
  },
  "language_info": {
   "codemirror_mode": {
    "name": "ipython",
    "version": 3
   },
   "file_extension": ".py",
   "mimetype": "text/x-python",
   "name": "python",
   "nbconvert_exporter": "python",
   "pygments_lexer": "ipython3",
   "version": "3.11.8"
  }
 },
 "nbformat": 4,
 "nbformat_minor": 2
}
